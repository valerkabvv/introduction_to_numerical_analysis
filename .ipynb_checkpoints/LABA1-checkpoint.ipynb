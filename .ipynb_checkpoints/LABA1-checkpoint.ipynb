{
 "cells": [
  {
   "cell_type": "code",
   "execution_count": 1,
   "metadata": {},
   "outputs": [],
   "source": [
    "import numpy as np"
   ]
  },
  {
   "cell_type": "markdown",
   "metadata": {},
   "source": [
    "### Задание:\n",
    "\n",
    "Вычислить интеграл $$I = \\int_0^1e^{-x^2}dx$$\n",
    "Методами:\n",
    "\n",
    "- Прямоугольников\n",
    "- Трапеций\n",
    "- Симпсона\n",
    "- Монте - Карло"
   ]
  },
  {
   "cell_type": "code",
   "execution_count": 2,
   "metadata": {},
   "outputs": [],
   "source": [
    "def midpoint_rectangle(f, a, b, N):\n",
    "    x = np.linspace(a, b, N)\n",
    "    h = (b - a)/N\n",
    "    intg = 0\n",
    "    for i in range(N-1):\n",
    "        intg+=f((x[i]+x[i+1])/2)*h\n",
    "    return intg"
   ]
  },
  {
   "cell_type": "code",
   "execution_count": 3,
   "metadata": {},
   "outputs": [],
   "source": [
    "def trapeze_rule(f, a, b, N):\n",
    "    x = np.linspace(a, b, N)\n",
    "    h = (b - a)/N\n",
    "    intg = 0\n",
    "    for i in range(N-1):\n",
    "        intg+=(f(x[i])+f(x[i+1]))/2*h\n",
    "    return intg"
   ]
  },
  {
   "cell_type": "code",
   "execution_count": 4,
   "metadata": {},
   "outputs": [],
   "source": [
    "def simpson_rule(f, a, b, N):\n",
    "    x = np.linspace(a, b, N)\n",
    "    h = (b - a)/N\n",
    "    intg = 0\n",
    "    for i in range(N-1):\n",
    "        intg+=(f(x[i]) + 4*f((x[i]+x[i+1])/2) + f(x[i+1]))/6*h\n",
    "    return intg"
   ]
  },
  {
   "cell_type": "code",
   "execution_count": 13,
   "metadata": {},
   "outputs": [],
   "source": [
    "def monte_carlo(f, a, b, max, N):\n",
    "    S = (b - a)*max \n",
    "    np.random.seed(42)\n",
    "    xs = np.random.uniform(a, b, size = N)\n",
    "    ys = np.random.uniform(0, max, size = N)\n",
    "    p = 0\n",
    "    for x, y in zip(xs, ys):\n",
    "        if f(x)>=y:\n",
    "            p+=1\n",
    "    return p/N*S"
   ]
  },
  {
   "cell_type": "code",
   "execution_count": 22,
   "metadata": {},
   "outputs": [],
   "source": [
    "func = lambda x: np.exp(-x*x)\n",
    "true_intg = 0.74682413\n",
    "\n",
    "rect = midpoint_rectangle(func, 0, 1, 1000)\n",
    "trapeze = trapeze_rule(func, 0, 1, 1000)\n",
    "simp = simpson_rule(func, 0, 1, 1000)\n",
    "m_c = monte_carlo(func, 0, 1, 1, 1000)"
   ]
  },
  {
   "cell_type": "code",
   "execution_count": 21,
   "metadata": {},
   "outputs": [
    {
     "name": "stdout",
     "output_type": "stream",
     "text": [
      "rect error -  7.465425843400375e-06\n",
      "trapeze error -  0.0007468826950015606\n",
      "simp error -  7.465428898401072e-06\n",
      "monte carlo error -  0.0011758699999999678\n"
     ]
    }
   ],
   "source": [
    "print(\"rect error - \", abs(true_intg - rect))\n",
    "print(\"trapeze error - \", abs(true_intg - trapeze))\n",
    "print(\"simp error - \", abs(true_intg - simp))\n",
    "print(\"monte carlo error - \", abs(true_intg - m_c))"
   ]
  },
  {
   "cell_type": "code",
   "execution_count": null,
   "metadata": {},
   "outputs": [],
   "source": []
  }
 ],
 "metadata": {
  "kernelspec": {
   "display_name": "Python 3",
   "language": "python",
   "name": "python3"
  },
  "language_info": {
   "codemirror_mode": {
    "name": "ipython",
    "version": 3
   },
   "file_extension": ".py",
   "mimetype": "text/x-python",
   "name": "python",
   "nbconvert_exporter": "python",
   "pygments_lexer": "ipython3",
   "version": "3.7.4"
  }
 },
 "nbformat": 4,
 "nbformat_minor": 2
}
